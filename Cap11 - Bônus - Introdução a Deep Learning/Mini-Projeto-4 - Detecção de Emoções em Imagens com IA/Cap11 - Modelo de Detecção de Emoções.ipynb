{
 "cells": [
  {
   "cell_type": "code",
   "execution_count": 1,
   "metadata": {},
   "outputs": [
    {
     "name": "stderr",
     "output_type": "stream",
     "text": [
      "C:\\Users\\FELIPE\\Anaconda3\\lib\\site-packages\\tensorflow\\python\\framework\\dtypes.py:519: FutureWarning: Passing (type, 1) or '1type' as a synonym of type is deprecated; in a future version of numpy, it will be understood as (type, (1,)) / '(1,)type'.\n",
      "  _np_qint8 = np.dtype([(\"qint8\", np.int8, 1)])\n",
      "C:\\Users\\FELIPE\\Anaconda3\\lib\\site-packages\\tensorflow\\python\\framework\\dtypes.py:520: FutureWarning: Passing (type, 1) or '1type' as a synonym of type is deprecated; in a future version of numpy, it will be understood as (type, (1,)) / '(1,)type'.\n",
      "  _np_quint8 = np.dtype([(\"quint8\", np.uint8, 1)])\n",
      "C:\\Users\\FELIPE\\Anaconda3\\lib\\site-packages\\tensorflow\\python\\framework\\dtypes.py:521: FutureWarning: Passing (type, 1) or '1type' as a synonym of type is deprecated; in a future version of numpy, it will be understood as (type, (1,)) / '(1,)type'.\n",
      "  _np_qint16 = np.dtype([(\"qint16\", np.int16, 1)])\n",
      "C:\\Users\\FELIPE\\Anaconda3\\lib\\site-packages\\tensorflow\\python\\framework\\dtypes.py:522: FutureWarning: Passing (type, 1) or '1type' as a synonym of type is deprecated; in a future version of numpy, it will be understood as (type, (1,)) / '(1,)type'.\n",
      "  _np_quint16 = np.dtype([(\"quint16\", np.uint16, 1)])\n",
      "C:\\Users\\FELIPE\\Anaconda3\\lib\\site-packages\\tensorflow\\python\\framework\\dtypes.py:523: FutureWarning: Passing (type, 1) or '1type' as a synonym of type is deprecated; in a future version of numpy, it will be understood as (type, (1,)) / '(1,)type'.\n",
      "  _np_qint32 = np.dtype([(\"qint32\", np.int32, 1)])\n",
      "C:\\Users\\FELIPE\\Anaconda3\\lib\\site-packages\\tensorflow\\python\\framework\\dtypes.py:528: FutureWarning: Passing (type, 1) or '1type' as a synonym of type is deprecated; in a future version of numpy, it will be understood as (type, (1,)) / '(1,)type'.\n",
      "  np_resource = np.dtype([(\"resource\", np.ubyte, 1)])\n"
     ]
    }
   ],
   "source": [
    "import os\n",
    "import sys\n",
    "import inspect\n",
    "import numpy as np\n",
    "import tensorflow as tf\n",
    "import matplotlib.pyplot as plt\n",
    "from modulos import utils\n",
    "from datetime import datetime\n",
    "from tensorflow.python.framework import ops\n",
    "from sklearn.metrics.classification import accuracy_score\n",
    "from sklearn.metrics import precision_recall_fscore_support\n",
    "import warnings"
   ]
  },
  {
   "cell_type": "code",
   "execution_count": 2,
   "metadata": {},
   "outputs": [
    {
     "data": {
      "text/plain": [
       "'1.8.0'"
      ]
     },
     "execution_count": 2,
     "metadata": {},
     "output_type": "execute_result"
    }
   ],
   "source": [
    "tf.__version__"
   ]
  },
  {
   "cell_type": "code",
   "execution_count": 3,
   "metadata": {},
   "outputs": [],
   "source": [
    "#alguns parâmetros, basicamente fazer o reset do grafo, limpar qualquer coisa que tenha memória\n",
    "warnings.filterwarnings(\"ignore\")\n",
    "os.environ['TF_CPP_MIN_LOG_LEVEL'] = '3'\n",
    "ops.reset_default_graph()\n",
    "np.random.seed(123456789)"
   ]
  },
  {
   "cell_type": "code",
   "execution_count": 4,
   "metadata": {},
   "outputs": [],
   "source": [
    "#definir onde estarão os dados\n",
    "# diretório DataSet e diretório Modelo, estão no mesmo local do jupyter notebook \n",
    "#dataset tem dados de treino e teste\n",
    "# modelo que vai receber o modelo treinado\n",
    "FLAGS = tf.flags.FLAGS\n",
    "tf.flags.DEFINE_string(\"data_dir\", \"dataset/\", \"Caminho para o diretório com dados de treino e de teste\")\n",
    "tf.flags.DEFINE_string(\"logs_dir\", \"modelo/\", \"Caminho para o diretório onde o modelo será gravado\")\n",
    "tf.flags.DEFINE_string(\"mode\", \"train\", \"mode: train (Default)/ test\")"
   ]
  },
  {
   "cell_type": "code",
   "execution_count": 5,
   "metadata": {},
   "outputs": [],
   "source": [
    "# definir hyperparâmetros\n",
    "# nos ajudam durante o processo\n",
    "# batch size = tamanho do cnjunto de dados que eu vou alimentar em cada passada\n",
    "# learing rate = sai em notação cientifica, pq muito pequeno, definir como gradiente será aplicado para atualização dos pesos\n",
    "# leia o deep learning book, fornecido pela DSA, lá explica cada um\n",
    "BATCH_SIZE = 128\n",
    "LEARNING_RATE = 1e-3\n",
    "MAX_ITERATIONS = 1000\n",
    "REGULARIZATION = 1e-3\n",
    "IMAGE_SIZE = 48\n",
    "NUM_LABELS = 7\n",
    "VALIDATION_PERCENT = 0.1"
   ]
  },
  {
   "cell_type": "markdown",
   "metadata": {},
   "source": [
    "### Funções Auxiliares para Construção do Modelo"
   ]
  },
  {
   "cell_type": "code",
   "execution_count": 6,
   "metadata": {},
   "outputs": [],
   "source": [
    "# 3 Funções auxiliares\n",
    "# Uma para adicionar perda de regularização\n",
    "# Uma função para definir as variáveis dos pesos\n",
    "# Variável de Bias\n",
    "# Peso é o que é aprendido durante o treinamento, definimos peso aleatórios no inicio, multiplicados pelo fixos de entrada e isso vai ocorrendo\n",
    "# durante o treinamento\n",
    "# adicionamos um elemento para garantir que voce possa avaliar e treinar dados não linearmente separados, isso é a função\n",
    "# do bias\n",
    "\n",
    "def add_to_regularization_loss(W, b):\n",
    "    tf.add_to_collection(\"losses\", tf.nn.l2_loss(W))\n",
    "    tf.add_to_collection(\"losses\", tf.nn.l2_loss(b))"
   ]
  },
  {
   "cell_type": "code",
   "execution_count": 7,
   "metadata": {},
   "outputs": [],
   "source": [
    "def weight_variable(shape, stddev=0.02, name=None):\n",
    "    initial = tf.truncated_normal(shape, stddev=stddev)\n",
    "    if name is None:\n",
    "        return tf.Variable(initial)\n",
    "    else:\n",
    "        return tf.get_variable(name, initializer=initial)"
   ]
  },
  {
   "cell_type": "code",
   "execution_count": 8,
   "metadata": {},
   "outputs": [],
   "source": [
    "def bias_variable(shape, name=None):\n",
    "    initial = tf.constant(0.0, shape=shape)\n",
    "    if name is None:\n",
    "        return tf.Variable(initial)\n",
    "    else:\n",
    "        return tf.get_variable(name, initializer=initial)"
   ]
  },
  {
   "cell_type": "markdown",
   "metadata": {},
   "source": [
    "### Construção do Modelo"
   ]
  },
  {
   "cell_type": "code",
   "execution_count": 9,
   "metadata": {},
   "outputs": [],
   "source": [
    "# 1 camada de convolução com strides e padding\n",
    "# definimos o bias = item de não linearidades\n",
    "# função de ativação RElu\n",
    "# função maxpool\n",
    "# por ultimo regularização\n",
    "\n",
    "# vai dar a saida, que aliementa a próxima camada de convolução\n",
    "# saída para totalmente densa (conectada1)\n",
    "# vai sar uma saida, só que agora aplica dropout como regularização (outra tecnica)\n",
    "\n",
    "def emotionCNN(dataset):\n",
    "    \n",
    "    # Camada de Convolução 1\n",
    "    with tf.name_scope(\"conv1\") as scope:\n",
    "        tf.summary.histogram(\"W_conv1\", weights['wc1'])\n",
    "        tf.summary.histogram(\"b_conv1\", biases['bc1'])\n",
    "        conv_1 = tf.nn.conv2d(dataset, weights['wc1'], strides=[1, 1, 1, 1], padding=\"SAME\")\n",
    "        h_conv1 = tf.nn.bias_add(conv_1, biases['bc1'])\n",
    "        h_1 = tf.nn.relu(h_conv1)\n",
    "        h_pool1 = tf.nn.max_pool(h_1, ksize=[1, 2, 2, 1], strides=[1, 2, 2, 1], padding=\"SAME\")\n",
    "        add_to_regularization_loss(weights['wc1'], biases['bc1'])\n",
    "        print(\"\")\n",
    "    # Camada de Convolução 2\n",
    "    with tf.name_scope(\"conv2\") as scope:\n",
    "        tf.summary.histogram(\"W_conv2\", weights['wc2'])\n",
    "        tf.summary.histogram(\"b_conv2\", biases['bc2'])\n",
    "        conv_2 = tf.nn.conv2d(h_pool1, weights['wc2'], strides=[1, 1, 1, 1], padding=\"SAME\")\n",
    "        h_conv2 = tf.nn.bias_add(conv_2, biases['bc2'])\n",
    "        h_2 = tf.nn.relu(h_conv2)\n",
    "        h_pool2 = tf.nn.max_pool(h_2, ksize=[1, 2, 2, 1], strides=[1, 2, 2, 1], padding=\"SAME\")\n",
    "        add_to_regularization_loss(weights['wc2'], biases['bc2'])\n",
    "        print(\"\")\n",
    "    # Camada Totalmente Conectada 1\n",
    "    with tf.name_scope(\"fc_1\") as scope:\n",
    "        prob = 0.5\n",
    "        image_size = IMAGE_SIZE // 4\n",
    "        h_flat = tf.reshape(h_pool2, [-1, image_size * image_size * 64])\n",
    "        tf.summary.histogram(\"W_fc1\", weights['wf1'])\n",
    "        tf.summary.histogram(\"b_fc1\", biases['bf1'])\n",
    "        h_fc1 = tf.nn.relu(tf.matmul(h_flat, weights['wf1']) + biases['bf1'])\n",
    "        h_fc1_dropout = tf.nn.dropout(h_fc1, prob)\n",
    "        \n",
    "    # Camada Totalmente Conectada 2\n",
    "    with tf.name_scope(\"fc_2\") as scope:\n",
    "        tf.summary.histogram(\"W_fc2\", weights['wf2'])\n",
    "        tf.summary.histogram(\"b_fc2\", biases['bf2'])\n",
    "        pred = tf.matmul(h_fc1_dropout, weights['wf2']) + biases['bf2']\n",
    "        print(\"\")\n",
    "    return pred"
   ]
  },
  {
   "cell_type": "code",
   "execution_count": 10,
   "metadata": {},
   "outputs": [],
   "source": [
    "# pesos e bias do modelo\n",
    "# definimos a inicialização de pesso e bias para cada uma das camadas\n",
    "\n",
    "# Pesos e Bias do Modelo\n",
    "weights = {\n",
    "    'wc1': weight_variable([5, 5, 1, 32], name=\"W_conv1\"),\n",
    "    'wc2': weight_variable([3, 3, 32, 64],name=\"W_conv2\"),\n",
    "    'wf1': weight_variable([int((IMAGE_SIZE // 4) * (IMAGE_SIZE // 4)) * 64, 256],name=\"W_fc1\"),\n",
    "    'wf2': weight_variable([256, NUM_LABELS], name=\"W_fc2\")\n",
    "}\n",
    "\n",
    "biases = {\n",
    "    'bc1': bias_variable([32], name=\"b_conv1\"),\n",
    "    'bc2': bias_variable([64], name=\"b_conv2\"),\n",
    "    'bf1': bias_variable([256], name=\"b_fc1\"),\n",
    "    'bf2': bias_variable([NUM_LABELS], name=\"b_fc2\")\n",
    "}"
   ]
  },
  {
   "cell_type": "code",
   "execution_count": 11,
   "metadata": {},
   "outputs": [],
   "source": [
    " # agora criar uma função para perdas, taxa de erro\n",
    "    \n",
    "def loss(pred, label):\n",
    "    cross_entropy_loss = tf.reduce_mean(tf.nn.softmax_cross_entropy_with_logits(logits=pred, labels=label))\n",
    "    tf.summary.scalar('Entropy', cross_entropy_loss)\n",
    "    reg_losses = tf.add_n(tf.get_collection(\"losses\"))\n",
    "    tf.summary.scalar('Reg_loss', reg_losses)\n",
    "    return cross_entropy_loss + REGULARIZATION * reg_losses"
   ]
  },
  {
   "cell_type": "code",
   "execution_count": 12,
   "metadata": {},
   "outputs": [],
   "source": [
    "# função de treinamento\n",
    "# utiliza o otimizador Adam\n",
    "# minimize = minimizar a perda\n",
    "\n",
    "def train(loss, step):\n",
    "    return tf.train.AdamOptimizer(LEARNING_RATE).minimize(loss, global_step=step)"
   ]
  },
  {
   "cell_type": "code",
   "execution_count": 13,
   "metadata": {},
   "outputs": [],
   "source": [
    "# definir função para pegar o próximo batch\n",
    "# próximo lote de dados, próximo lote de imagens\n",
    "def get_next_batch(images, labels, step):\n",
    "    offset = (step * BATCH_SIZE) % (images.shape[0] - BATCH_SIZE)\n",
    "    batch_images = images[offset: offset + BATCH_SIZE]\n",
    "    batch_labels = labels[offset:offset + BATCH_SIZE]\n",
    "    return batch_images, batch_labels"
   ]
  },
  {
   "cell_type": "code",
   "execution_count": 14,
   "metadata": {},
   "outputs": [],
   "source": [
    "# sem seguida criamos listas para resultados de treinamento e validação\n",
    "# para receber essa taxa de erro,\n",
    "\n",
    "# Listas para resultados de treinamento\n",
    "train_error_list = []\n",
    "train_step_list = []\n",
    "\n",
    "# Listas para resultados de validação\n",
    "valid_error_list = []\n",
    "valid_step_list = []\n"
   ]
  },
  {
   "cell_type": "markdown",
   "metadata": {},
   "source": [
    "### Treinamento"
   ]
  },
  {
   "cell_type": "code",
   "execution_count": 15,
   "metadata": {},
   "outputs": [
    {
     "name": "stdout",
     "output_type": "stream",
     "text": [
      "[]\n",
      "[]\n"
     ]
    }
   ],
   "source": [
    "# criar a função main, a função que vai conter todas as funções do treinamento do modelo\n",
    "\n",
    "\n",
    "def main(argv=None):\n",
    "    \n",
    "    # Carrega os dados\n",
    "    train_images, train_labels, valid_images, valid_labels, test_images = utils.read_data(FLAGS.data_dir)\n",
    "    \n",
    "    print(\"\\nTamanho do Dataset de Treino: %s\" % train_images.shape[0])\n",
    "    print('Tamanho do Dataset de Validação: %s' % valid_images.shape[0])\n",
    "    print(\"Tamanho do Dataset de Teste: %s\" % test_images.shape[0])\n",
    "    \n",
    "    # definimos os placeholder \n",
    "    global_step = tf.Variable(0, trainable=False)\n",
    "    dropout_prob = tf.placeholder(tf.float32)\n",
    "    input_dataset = tf.placeholder(tf.float32, [None, IMAGE_SIZE, IMAGE_SIZE, 1], name=\"input\")\n",
    "    input_labels = tf.placeholder(tf.float32, [None, NUM_LABELS])\n",
    "\n",
    "    # chamamos a função que constrói nosso modelo (emotionCNN)\n",
    "    # função softmax\n",
    "    # função de perda\n",
    "    # função de treino\n",
    "    pred = emotionCNN(input_dataset)\n",
    "    output_pred = tf.nn.softmax(pred, name=\"output\")\n",
    "    loss_val = loss(pred, input_labels)\n",
    "    train_op = train(loss_val, global_step)\n",
    "\n",
    "    # definimos o sumário\n",
    "    # inicializamos as variáveis\n",
    "    summary_op = tf.summary.merge_all()\n",
    "    init_op = tf.global_variables_initializer()\n",
    "\n",
    "    # treinamento começa quando abre a sessão\n",
    "    # definimos um checkpoint - comum quanto treina modelos muito grande. Depois de um número de passadas, ele salva o modelo como ele está\n",
    "    # mesmo que o aprendizado não tenha sido concluido, ele começa do ultimo checkpoint\n",
    "    with tf.Session() as sess:\n",
    "        sess.run(init_op)\n",
    "        summary_writer = tf.summary.FileWriter(FLAGS.logs_dir, sess.graph)\n",
    "        saver = tf.train.Saver()\n",
    "        ckpt = tf.train.get_checkpoint_state(FLAGS.logs_dir)\n",
    "        if ckpt and ckpt.model_checkpoint_path:\n",
    "            saver.restore(sess, ckpt.model_checkpoint_path)\n",
    "            print(\"Modelo Restaurado!\")\n",
    "\n",
    "        for step in range(MAX_ITERATIONS):\n",
    "            batch_image, batch_label = get_next_batch(train_images, train_labels, step)\n",
    "            feed_dict = {input_dataset: batch_image, input_labels: batch_label}\n",
    "\n",
    "            # run = basicamente execução do grafo computacional onde executo a função todas elas\n",
    "            sess.run(train_op, feed_dict=feed_dict)\n",
    "            if step % 10 == 0:\n",
    "                train_loss, summary_str = sess.run([loss_val, summary_op], feed_dict=feed_dict)\n",
    "                summary_writer.add_summary(summary_str, global_step=step)\n",
    "                train_error_list.append(train_loss)\n",
    "                train_step_list.append(step)\n",
    "                print(\"Taxa de Erro no Treinamento: %f\" % train_loss)\n",
    "\n",
    "            # cálculo a perda, tanto em treinamento (acima) quanto em validação (abaixo)\n",
    "            # para que possamos ir avaliando o modelo durante treinamento\n",
    "            if step % 100 == 0:\n",
    "                valid_loss = sess.run(loss_val, feed_dict={input_dataset: valid_images, input_labels: valid_labels})\n",
    "                valid_error_list.append(valid_loss)\n",
    "                valid_step_list.append(step)\n",
    "                print(\"%s Taxa de Erro na Validação: %f\" % (datetime.now(), valid_loss))\n",
    "                saver.save(sess, FLAGS.logs_dir + 'model.ckpt', global_step=step)\n",
    "        \n",
    "        #realizamos dois Plot's para verificar como ocorreu todo treinamento\n",
    "        # Plot do erro durante o treinamento\n",
    "        plt.plot(train_step_list, train_error_list, 'r--', label='Erro no Treinamento Por Iteração', linewidth=4)\n",
    "        plt.title('Erro no Treinamento Por Iteração')\n",
    "        plt.xlabel('Iteração')\n",
    "        plt.ylabel('Erro no Treinamento')\n",
    "        plt.legend(loc='upper right')\n",
    "        plt.show()\n",
    "\n",
    "        # Plot do erro durante a validação\n",
    "        plt.plot(valid_step_list, valid_error_list, 'r--', label='Erro na Validação Por Iteração', linewidth=4)\n",
    "        plt.title('Erro na Validação Por Iteração')\n",
    "        plt.xlabel('Iteração')\n",
    "        plt.ylabel('Erro na Validação')\n",
    "        plt.legend(loc='upper right')\n",
    "        plt.show()  \n",
    "\n",
    "print(train_error_list) \n",
    "print(valid_error_list) "
   ]
  },
  {
   "cell_type": "code",
   "execution_count": 16,
   "metadata": {},
   "outputs": [
    {
     "name": "stdout",
     "output_type": "stream",
     "text": [
      "\n",
      "Tamanho do Dataset de Treino: 3761\n",
      "Tamanho do Dataset de Validação: 417\n",
      "Tamanho do Dataset de Teste: 1312\n",
      "\n",
      "\n",
      "\n",
      "WARNING:tensorflow:From <ipython-input-11-343dbf58d74b>:4: softmax_cross_entropy_with_logits (from tensorflow.python.ops.nn_ops) is deprecated and will be removed in a future version.\n",
      "Instructions for updating:\n",
      "\n",
      "Future major versions of TensorFlow will allow gradients to flow\n",
      "into the labels input on backprop by default.\n",
      "\n",
      "See @{tf.nn.softmax_cross_entropy_with_logits_v2}.\n",
      "\n",
      "INFO:tensorflow:Restoring parameters from modelo/model.ckpt-300\n",
      "Modelo Restaurado!\n",
      "Taxa de Erro no Treinamento: 0.306660\n",
      "2020-07-10 08:28:27.145086 Taxa de Erro na Validação: 0.612580\n",
      "Taxa de Erro no Treinamento: 0.145631\n",
      "Taxa de Erro no Treinamento: 0.184119\n",
      "Taxa de Erro no Treinamento: 0.181535\n",
      "Taxa de Erro no Treinamento: 0.143213\n",
      "Taxa de Erro no Treinamento: 0.141921\n",
      "Taxa de Erro no Treinamento: 0.153295\n",
      "Taxa de Erro no Treinamento: 0.140145\n",
      "Taxa de Erro no Treinamento: 0.175497\n",
      "Taxa de Erro no Treinamento: 0.205741\n",
      "Taxa de Erro no Treinamento: 0.145562\n",
      "2020-07-10 08:30:01.304472 Taxa de Erro na Validação: 0.690698\n",
      "Taxa de Erro no Treinamento: 0.163299\n",
      "Taxa de Erro no Treinamento: 0.126841\n",
      "Taxa de Erro no Treinamento: 0.204765\n",
      "Taxa de Erro no Treinamento: 0.221170\n",
      "Taxa de Erro no Treinamento: 0.232028\n",
      "Taxa de Erro no Treinamento: 0.164335\n",
      "Taxa de Erro no Treinamento: 0.170807\n",
      "Taxa de Erro no Treinamento: 0.115476\n",
      "Taxa de Erro no Treinamento: 0.189497\n",
      "Taxa de Erro no Treinamento: 0.182908\n",
      "2020-07-10 08:31:24.108193 Taxa de Erro na Validação: 0.703243\n",
      "Taxa de Erro no Treinamento: 0.122792\n",
      "Taxa de Erro no Treinamento: 0.135171\n",
      "Taxa de Erro no Treinamento: 0.144277\n",
      "Taxa de Erro no Treinamento: 0.134306\n",
      "Taxa de Erro no Treinamento: 0.221962\n",
      "Taxa de Erro no Treinamento: 0.175391\n",
      "Taxa de Erro no Treinamento: 0.129189\n",
      "Taxa de Erro no Treinamento: 0.160936\n",
      "Taxa de Erro no Treinamento: 0.135006\n",
      "Taxa de Erro no Treinamento: 0.140137\n",
      "2020-07-10 08:32:46.055085 Taxa de Erro na Validação: 0.652224\n",
      "Taxa de Erro no Treinamento: 0.153226\n",
      "Taxa de Erro no Treinamento: 0.107604\n",
      "Taxa de Erro no Treinamento: 0.102923\n",
      "Taxa de Erro no Treinamento: 0.155116\n",
      "Taxa de Erro no Treinamento: 0.115280\n",
      "Taxa de Erro no Treinamento: 0.125353\n",
      "Taxa de Erro no Treinamento: 0.179601\n",
      "Taxa de Erro no Treinamento: 0.100792\n",
      "Taxa de Erro no Treinamento: 0.071169\n",
      "Taxa de Erro no Treinamento: 0.217609\n",
      "2020-07-10 08:34:02.026092 Taxa de Erro na Validação: 0.745010\n",
      "Taxa de Erro no Treinamento: 0.156640\n",
      "Taxa de Erro no Treinamento: 0.123179\n",
      "Taxa de Erro no Treinamento: 0.147919\n",
      "Taxa de Erro no Treinamento: 0.181460\n",
      "Taxa de Erro no Treinamento: 0.126739\n",
      "Taxa de Erro no Treinamento: 0.095913\n",
      "Taxa de Erro no Treinamento: 0.134326\n",
      "Taxa de Erro no Treinamento: 0.120293\n",
      "Taxa de Erro no Treinamento: 0.100598\n",
      "Taxa de Erro no Treinamento: 0.154810\n",
      "2020-07-10 08:35:19.595249 Taxa de Erro na Validação: 0.623420\n",
      "Taxa de Erro no Treinamento: 0.186745\n",
      "Taxa de Erro no Treinamento: 0.080078\n",
      "Taxa de Erro no Treinamento: 0.163712\n",
      "Taxa de Erro no Treinamento: 0.111310\n",
      "Taxa de Erro no Treinamento: 0.108586\n",
      "Taxa de Erro no Treinamento: 0.127940\n",
      "Taxa de Erro no Treinamento: 0.107976\n",
      "Taxa de Erro no Treinamento: 0.087868\n",
      "Taxa de Erro no Treinamento: 0.104815\n",
      "Taxa de Erro no Treinamento: 0.129142\n",
      "2020-07-10 08:36:33.556804 Taxa de Erro na Validação: 0.730277\n",
      "Taxa de Erro no Treinamento: 0.148417\n",
      "Taxa de Erro no Treinamento: 0.103147\n",
      "Taxa de Erro no Treinamento: 0.114442\n",
      "Taxa de Erro no Treinamento: 0.076377\n",
      "Taxa de Erro no Treinamento: 0.091974\n",
      "Taxa de Erro no Treinamento: 0.129774\n",
      "Taxa de Erro no Treinamento: 0.133746\n",
      "Taxa de Erro no Treinamento: 0.078856\n",
      "Taxa de Erro no Treinamento: 0.138274\n",
      "Taxa de Erro no Treinamento: 0.096424\n",
      "2020-07-10 08:37:47.224329 Taxa de Erro na Validação: 0.705026\n",
      "Taxa de Erro no Treinamento: 0.125241\n",
      "Taxa de Erro no Treinamento: 0.070955\n",
      "Taxa de Erro no Treinamento: 0.144366\n",
      "Taxa de Erro no Treinamento: 0.165280\n",
      "Taxa de Erro no Treinamento: 0.129205\n",
      "Taxa de Erro no Treinamento: 0.124987\n",
      "Taxa de Erro no Treinamento: 0.087959\n",
      "Taxa de Erro no Treinamento: 0.098965\n",
      "Taxa de Erro no Treinamento: 0.104402\n",
      "Taxa de Erro no Treinamento: 0.092855\n",
      "2020-07-10 08:39:01.670963 Taxa de Erro na Validação: 0.789011\n",
      "Taxa de Erro no Treinamento: 0.145838\n",
      "Taxa de Erro no Treinamento: 0.106156\n",
      "Taxa de Erro no Treinamento: 0.113346\n",
      "Taxa de Erro no Treinamento: 0.087103\n",
      "Taxa de Erro no Treinamento: 0.072927\n",
      "Taxa de Erro no Treinamento: 0.100058\n",
      "Taxa de Erro no Treinamento: 0.079568\n",
      "Taxa de Erro no Treinamento: 0.084021\n",
      "Taxa de Erro no Treinamento: 0.097270\n",
      "Taxa de Erro no Treinamento: 0.120240\n",
      "2020-07-10 08:40:16.261579 Taxa de Erro na Validação: 0.748993\n",
      "Taxa de Erro no Treinamento: 0.105201\n",
      "Taxa de Erro no Treinamento: 0.103388\n",
      "Taxa de Erro no Treinamento: 0.136759\n",
      "Taxa de Erro no Treinamento: 0.106989\n",
      "Taxa de Erro no Treinamento: 0.054115\n",
      "Taxa de Erro no Treinamento: 0.148013\n",
      "Taxa de Erro no Treinamento: 0.108744\n",
      "Taxa de Erro no Treinamento: 0.072437\n",
      "Taxa de Erro no Treinamento: 0.060615\n"
     ]
    },
    {
     "data": {
      "image/png": "[encoded data removed]",
      "text/plain": [
       "<Figure size 432x288 with 1 Axes>"
      ]
     },
     "metadata": {},
     "output_type": "display_data"
    },
    {
     "data": {
      "image/png": "[encoded data removed]",
      "text/plain": [
       "<Figure size 432x288 with 1 Axes>"
      ]
     },
     "metadata": {},
     "output_type": "display_data"
    },
    {
     "ename": "SystemExit",
     "evalue": "",
     "output_type": "error",
     "traceback": [
      "An exception has occurred, use %tb to see the full traceback.\n",
      "\u001b[1;31mSystemExit\u001b[0m\n"
     ]
    }
   ],
   "source": [
    "if __name__ == \"__main__\":\n",
    "    tf.app.run()\n",
    "    print(\"Treinanento concluído\")"
   ]
  },
  {
   "cell_type": "code",
   "execution_count": null,
   "metadata": {},
   "outputs": [],
   "source": []
  }
 ],
 "metadata": {
  "kernelspec": {
   "display_name": "Python 3",
   "language": "python",
   "name": "python3"
  },
  "language_info": {
   "codemirror_mode": {
    "name": "ipython",
    "version": 3
   },
   "file_extension": ".py",
   "mimetype": "text/x-python",
   "name": "python",
   "nbconvert_exporter": "python",
   "pygments_lexer": "ipython3",
   "version": "3.6.5"
  }
 },
 "nbformat": 4,
 "nbformat_minor": 2
}
